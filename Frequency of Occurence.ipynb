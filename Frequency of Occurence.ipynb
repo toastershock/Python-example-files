{
 "cells": [
  {
   "cell_type": "code",
   "execution_count": null,
   "id": "d0a76124-d5a5-4ab4-a736-dd8805245314",
   "metadata": {},
   "outputs": [],
   "source": [
    "import pandas as pd\n",
    "import numpy as np\n",
    "import seaborn as sns\n",
    "import matplotlib.pyplot as plt\n",
    "from statsmodels.gam.api import GLMGam, BSplines\n",
    "from patsy import dmatrix"
   ]
  },
  {
   "cell_type": "code",
   "execution_count": null,
   "id": "6b3751e3-6292-47be-bab4-a6ad5804a834",
   "metadata": {},
   "outputs": [],
   "source": [
    "# Read data\n",
    "stomachs = pd.read_csv(\"C:/Users/tobing12/Documents/PhD/Data/Stomachs/Stomach_17_03_2021.csv\")"
   ]
  },
  {
   "cell_type": "code",
   "execution_count": null,
   "id": "31f574a8-6899-4a5b-872e-48526dbf3736",
   "metadata": {},
   "outputs": [],
   "source": [
    "# Create Sizeclass column\n",
    "stomachs['Sizeclass'] = np.where(\n",
    "    stomachs['Length'] < 13, '<13cm',\n",
    "    np.where(stomachs['Length'] <= 19, '13-19cm', '>19cm')\n",
    ")\n"
   ]
  },
  {
   "cell_type": "code",
   "execution_count": null,
   "id": "2d5de8ea-6fcf-446b-9a93-ede6ac6da7f2",
   "metadata": {},
   "outputs": [],
   "source": [
    "# Select columns for FO\n",
    "FO = stomachs.iloc[:, 65:81].assign(\n",
    "    Month=stomachs['Month'],\n",
    "    Season=stomachs['Season'],\n",
    "    Daytime=stomachs['Daytime'],\n",
    "    Area=stomachs['Area'],\n",
    "    Length=stomachs['Length'],\n",
    "    Depth=stomachs['Depth']\n",
    ")"
   ]
  },
  {
   "cell_type": "code",
   "execution_count": null,
   "id": "9145deae-e9a5-4ce2-889d-03209fe931c3",
   "metadata": {},
   "outputs": [],
   "source": [
    "# Group by and add counts\n",
    "FO['Length_n'] = FO.groupby(['Cohort', 'Sizeclass'])['Length'].transform('count')\n"
   ]
  },
  {
   "cell_type": "code",
   "execution_count": null,
   "id": "38fe262e-7740-41d6-893c-18502bf9d0da",
   "metadata": {},
   "outputs": [],
   "source": [
    "# Add Depth category\n",
    "FO['Depth_cat'] = np.where(\n",
    "    FO['Depth'] < 153, 'shallow',\n",
    "    np.where(FO['Depth'] < 231, 'medium', 'deep')\n",
    ")"
   ]
  },
  {
   "cell_type": "code",
   "execution_count": null,
   "id": "85985759-cf96-4795-8e49-73394852ce1e",
   "metadata": {},
   "outputs": [],
   "source": [
    "# Add additional group counts\n",
    "for group_col in ['Cohort', 'Sizeclass', 'Depth_cat', 'Area', 'Daytime', 'Season']:\n",
    "    FO[f'n_{group_col}'] = FO.groupby(group_col)['Depth'].transform('count')\n"
   ]
  },
  {
   "cell_type": "code",
   "execution_count": null,
   "id": "77905aff-d1ba-49b0-bd17-8181689317ba",
   "metadata": {},
   "outputs": [],
   "source": [
    "\n",
    "# Rename a column\n",
    "FO.rename(columns={'Chaetog0th_ap': 'Chaetognaths_ap'}, inplace=True)\n"
   ]
  },
  {
   "cell_type": "code",
   "execution_count": null,
   "id": "99e14f66-99d5-4d16-86b8-c978e9b47422",
   "metadata": {},
   "outputs": [],
   "source": [
    "# Create summarized columns\n",
    "FO['Others'] = FO[['Other_ap', 'Sand_ap', 'Gastropod_ap', 'Debri_ap']].sum(axis=1)\n",
    "FO['Fish'] = FO[['Fish_ap', 'Fishscales_ap', 'Myctophid_ap']].sum(axis=1)\n",
    "FO['Euphasiids'] = FO[['Crustaceans_ap', 'Euphasiids_ap']].sum(axis=1)\n",
    "FO['Amphipods'] = FO[['Themisto_ap', 'Phronima_ap', 'Amphipods_ap']].sum(axis=1)\n",
    "FO['Cephalopods'] = FO[['Cephalopod_ap', 'Loligo_ap']].sum(axis=1)\n",
    "FO['Chaetognaths'] = FO['Chaetognath_ap']\n",
    "FO['Munida'] = FO['Munida_ap']"
   ]
  },
  {
   "cell_type": "code",
   "execution_count": null,
   "id": "41369b93-2eb9-4563-9e65-3e8a0774e706",
   "metadata": {},
   "outputs": [],
   "source": [
    "# Binary conversion\n",
    "for col in ['Others', 'Fish', 'Euphasiids', 'Amphipods', 'Cephalopods', 'Chaetognaths', 'Munida']:\n",
    "    FO[col] = np.where(FO[col] >= 1, 1, 0)\n"
   ]
  },
  {
   "cell_type": "code",
   "execution_count": null,
   "id": "0f887d1e-0f7f-4569-bd59-4e85c4f70618",
   "metadata": {},
   "outputs": [],
   "source": [
    "# Reshape data (long format)\n",
    "FO_long = pd.melt(FO, id_vars=['Cohort', 'Sizeclass'], value_vars=['Others', 'Fish', 'Euphasiids', 'Amphipods', 'Cephalopods', 'Chaetognaths', 'Munida'],\n",
    "                  var_name='Preytype', value_name='Preytype_counts')\n",
    "\n",
    "# Add Subgroup column\n",
    "FO_long['Subgroup'] = np.where(\n",
    "    FO_long['Preytype'].isin(['Themisto', 'Phronima', 'Amphipods']), 'Amphipoda',\n",
    "    np.where(FO_long['Preytype'] == 'Fishscales', 'Fish',\n",
    "    np.where(FO_long['Preytype'].isin(['Debri', 'Sand']), 'Other',\n",
    "    np.where(FO_long['Preytype'] == 'Loligo', 'Decapoda', FO_long['Preytype'])))\n",
    ")"
   ]
  },
  {
   "cell_type": "code",
   "execution_count": null,
   "id": "9cbb3a40-4b83-487a-90c3-23ede846175d",
   "metadata": {},
   "outputs": [],
   "source": [
    "# Filter non-zero counts\n",
    "FO_long = FO_long[FO_long['Preytype_counts'] != 0]"
   ]
  },
  {
   "cell_type": "code",
   "execution_count": null,
   "id": "43bc13a9-a443-4351-80c2-9874f6a4cb0b",
   "metadata": {},
   "outputs": [],
   "source": [
    "# Summarize data\n",
    "FO_summary = FO_long.groupby(['Subgroup', 'Cohort', 'Sizeclass'], as_index=False).agg(\n",
    "    Sum_counts=('Preytype_counts', 'sum'),\n",
    "    n=('Preytype_counts', 'count')\n",
    ")\n",
    "FO_summary['FO'] = FO_summary['Sum_counts'] / FO_summary['n'] * 100\n",
    "FO_summary1 = FO_summary[FO_summary['FO'] != 0]\n",
    "FO_summary1.sort_values('Depth_cat', ascending=False, inplace=True)\n"
   ]
  },
  {
   "cell_type": "code",
   "execution_count": null,
   "id": "6c9aada8-7aee-4d7e-a2f6-5c7d00c88b89",
   "metadata": {},
   "outputs": [],
   "source": [
    "# Save summary data\n",
    "FO_summary.to_csv(\"FO_Length_overall.csv\", index=False)"
   ]
  },
  {
   "cell_type": "code",
   "execution_count": null,
   "id": "403bf864-2a0a-43c1-b46e-b93f61d00d1b",
   "metadata": {},
   "outputs": [],
   "source": [
    "# Plot Frequency of Occurrence by Preytype\n",
    "sns.barplot(data=FO_summary, x='Preytype', y='FO', hue='Cohort', dodge=True)\n",
    "plt.xticks(rotation=-90)\n",
    "plt.ylabel(\"FO[%]\")\n",
    "plt.legend(loc='lower center')\n",
    "plt.show()"
   ]
  },
  {
   "cell_type": "code",
   "execution_count": null,
   "id": "56243c2c-2b6f-40f4-8904-33e16ab41b45",
   "metadata": {},
   "outputs": [],
   "source": [
    "# GAM model using statsmodels\n",
    "# Example: Define spline basis for Depth\n",
    "X_spline = dmatrix(\"bs(Depth, df=4)\", data=FO_summary1, return_type='dataframe')\n",
    "gam_model = GLMGam.from_formula(\"FO ~ Preytype * Depth\", data=FO_summary1, smoother=BSplines(X_spline, df=[4], degree=[3]))\n",
    "gam_results = gam_model.fit()\n",
    "print(gam_results.summary())"
   ]
  },
  {
   "cell_type": "code",
   "execution_count": null,
   "id": "fc9b536a-875c-4484-ac7e-f8e764167259",
   "metadata": {},
   "outputs": [],
   "source": [
    "# Save final figure\n",
    "plt.savefig(\"Frequency_of_occurence_per_DML_Linetype.png\", dpi=300)\n"
   ]
  },
  {
   "cell_type": "code",
   "execution_count": null,
   "id": "1d08cfd6-9139-4b40-9f45-c16d8d76698e",
   "metadata": {},
   "outputs": [],
   "source": [
    "# Boxplot for Depth\n",
    "sns.boxplot(y=FO['Depth'])\n",
    "plt.show()\n"
   ]
  },
  {
   "cell_type": "code",
   "execution_count": null,
   "id": "43e32cc5-ba52-45e8-ad6b-e3a3f8f8f977",
   "metadata": {},
   "outputs": [],
   "source": [
    "# Summary statistics\n",
    "print(FO['Depth'].describe())\n"
   ]
  }
 ],
 "metadata": {
  "kernelspec": {
   "display_name": "Python 3 (ipykernel)",
   "language": "python",
   "name": "python3"
  },
  "language_info": {
   "codemirror_mode": {
    "name": "ipython",
    "version": 3
   },
   "file_extension": ".py",
   "mimetype": "text/x-python",
   "name": "python",
   "nbconvert_exporter": "python",
   "pygments_lexer": "ipython3",
   "version": "3.10.11"
  }
 },
 "nbformat": 4,
 "nbformat_minor": 5
}
